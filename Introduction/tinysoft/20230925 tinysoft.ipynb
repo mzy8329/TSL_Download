{
 "cells": [
  {
   "cell_type": "code",
   "execution_count": null,
   "id": "a85a3ff9",
   "metadata": {
    "ExecuteTime": {
     "end_time": "2023-09-25T14:25:13.469792Z",
     "start_time": "2023-09-25T14:25:13.463257Z"
    }
   },
   "outputs": [],
   "source": [
    "import pandas as pd\n",
    "import numpy as np\n",
    "import datetime as dt\n",
    "\n",
    "pd.set_option('display.max_columns', 200)"
   ]
  },
  {
   "cell_type": "code",
   "execution_count": null,
   "id": "1ce8c045",
   "metadata": {
    "ExecuteTime": {
     "end_time": "2023-09-25T14:25:13.634182Z",
     "start_time": "2023-09-25T14:25:13.625401Z"
    }
   },
   "outputs": [],
   "source": [
    "# pip install tspytsl"
   ]
  },
  {
   "cell_type": "code",
   "execution_count": null,
   "id": "bfad6bb1",
   "metadata": {
    "ExecuteTime": {
     "end_time": "2023-09-25T14:25:13.941435Z",
     "start_time": "2023-09-25T14:25:13.816706Z"
    },
    "scrolled": true
   },
   "outputs": [],
   "source": [
    "import pyTSL\n",
    "\n",
    "c = pyTSL.Client(\"hit\", \n",
    "                 \"20230427\",\n",
    "                 \"tsl.tinysoft.com.cn\", \n",
    "                 443)\n",
    "c.login() #成功返回 1，失败返回 0\n",
    "r = c.exec('''return \"测试\"; ''')\n",
    "if r.error(): #有错误\n",
    "    print(r.message())\n",
    "else:\n",
    "    print(r.value())"
   ]
  },
  {
   "cell_type": "code",
   "execution_count": null,
   "id": "0596df1f",
   "metadata": {
    "ExecuteTime": {
     "end_time": "2023-09-25T14:25:15.102849Z",
     "start_time": "2023-09-25T14:25:14.553464Z"
    }
   },
   "outputs": [],
   "source": [
    "r = c.call(\"GetAbkbyDate\",\"A股\",dt.date(2020,12,7))\n",
    "if r.error(): #有错误\n",
    "    print(r.message())\n",
    "else:\n",
    "    print(pd.DataFrame(r.value()))"
   ]
  },
  {
   "cell_type": "code",
   "execution_count": null,
   "id": "7d0ad8f5",
   "metadata": {
    "ExecuteTime": {
     "end_time": "2023-09-25T14:25:15.720743Z",
     "start_time": "2023-09-25T14:25:15.625680Z"
    }
   },
   "outputs": [],
   "source": [
    "def rdo(df,name):\n",
    "  #本地路径+文件名（这里用代码）\n",
    "    path=\"C:/Users/YiLab1/Desktop/\"+name+\".xlsx\"\n",
    "    df= pd.DataFrame(df)\n",
    "    print(df.shape, path)\n",
    "    return 1\n",
    "\n",
    "pyTSL.register_proc(\"a\",rdo)\n",
    "\n",
    "test = '''\n",
    "    function get_value(stocks,begt,endt);\n",
    "    begin\n",
    "     for i in stocks do\n",
    "     begin\n",
    "       stock:=stocks[i];\n",
    "       t:= select ['StockID'],datetimetostr(['date']) as 'date',['close']\n",
    "         from Markettable datekey inttodate(begt) to inttodate(endt) of stock end;\n",
    "       rdo2 a(t,stock);\n",
    "     end\n",
    "     return array(\"执行完成\");\n",
    "    end;\n",
    "    '''\n",
    "stocks = ['SH600000','SH600004','SH600006','SH600007']\n",
    "\n",
    "#获取开始日至截止日分钟线行情\n",
    "r = c.call('get_value', stocks, 20210701,20210705 , code=test,cycle=\"1分钟线\")\n",
    "print(r.value())"
   ]
  },
  {
   "cell_type": "code",
   "execution_count": null,
   "id": "a2bb9aa0",
   "metadata": {
    "ExecuteTime": {
     "end_time": "2023-09-14T15:53:06.803286Z",
     "start_time": "2023-09-14T15:35:58.999204Z"
    }
   },
   "outputs": [],
   "source": [
    "def write_file(df, name):\n",
    "    df= pd.DataFrame(df)\n",
    "    df.to_csv(name)\n",
    "    return 1\n",
    "\n",
    "pyTSL.register_proc(\"write_file\",write_file)\n",
    "\n",
    "func = '''\n",
    "function get_data();\n",
    "begin\n",
    "    Dir:= '/Users/data/'; //文件存放路径\n",
    "    begT:= 20230913T;\n",
    "    endT:= 20230914T;\n",
    "    QHArr:= getbk('上市期货;退市期货');\n",
    "    Tarr:= MarketTradeDayQk(begT,endT); //市场交易日\n",
    "    \n",
    "    for i:=0 to length(Tarr)-1 do\n",
    "    begin\n",
    "        vEndt:=Tarr[i];\n",
    "        //选出指定日在市交易的\n",
    "        bk:= sselect thisrow from QHArr\n",
    "                    where spec(FuturesIsTrade(vEndt),thisrow) =1 end; \n",
    "        //FileLJ:= datetostr(vEndt)$'/'; //按日期文件夹存放指定日数据\n",
    "        for j:=0 to length(bk)-1 do\n",
    "        begin\n",
    "            setsysparam(pn_stock(),bk[j]);\n",
    "            //if not istradeday(Tarr[i]) then continue;\n",
    "            //取数\n",
    "            //确定数据开始时间-考虑到期货有夜盘数据，则开始时间为上个交易日的收盘后\n",
    "            with *,array(pn_cycle():cy_day(), pn_stock():'SH000001',pn_date():vEndt) do\n",
    "            vBegT:=ref(sp_time(),1)+18/24;//一般18点前白盘能结束\n",
    "            data:= select \n",
    "                datetimetostr(['date']) as 'time',\n",
    "                ['StockID'] as 'symbol_id',\n",
    "                ['StockName'] as 'symbol_name',\n",
    "                ['price'] as 'last',\n",
    "                ['vol'] as 'trade_volume',\n",
    "                ['amount'] as 'trade_amount',\n",
    "                ['cjbs'] as 'open_interest_change',\n",
    "                ['bc1'] as 'bv1',\n",
    "                ['buy1'] as 'bp1',\n",
    "                ['sale1'] as 'ap1',\n",
    "                ['sc1'] as 'av1',\n",
    "                ['sectional_yclose'] as 'prev_close',\n",
    "                ['sectional_open'] as 'open',\n",
    "                ['sectional_high'] as 'high',\n",
    "                ['sectional_low'] as 'low',\n",
    "                ['sectional_vol'] as 'volume',\n",
    "                ['sectional_amount'] as 'amount',\n",
    "                ['sectional_cjbs'] as 'open_interest'\n",
    "                    from tradetable datekey vBegT to vEndt+18/24 of bk[j] end;\n",
    "            //导出 \n",
    "            FileName:= bk[j]; //csv文件名-以证券代码进行命名 \n",
    "            ret:= rdo2 write_file(data, FileName+'.csv');\n",
    "            //打印执行进度及状态\n",
    "            if ret then\n",
    "                echo '导出'$FileLJ$'日'$FileName$'数据成功!'; \n",
    "            else \n",
    "                echo '导出'$FileLJ$'日'$FileName$'数据失败!';\n",
    "        end\n",
    "    end\n",
    "    return '数据导出完毕!';\n",
    "end\n",
    "'''\n",
    "r = c.call('get_data', code=func)"
   ]
  },
  {
   "cell_type": "code",
   "execution_count": null,
   "id": "46804732",
   "metadata": {},
   "outputs": [],
   "source": []
  }
 ],
 "metadata": {
  "kernelspec": {
   "display_name": "Python 3 (ipykernel)",
   "language": "python",
   "name": "python3"
  },
  "language_info": {
   "codemirror_mode": {
    "name": "ipython",
    "version": 3
   },
   "file_extension": ".py",
   "mimetype": "text/x-python",
   "name": "python",
   "nbconvert_exporter": "python",
   "pygments_lexer": "ipython3",
   "version": "3.8.10"
  }
 },
 "nbformat": 4,
 "nbformat_minor": 5
}
